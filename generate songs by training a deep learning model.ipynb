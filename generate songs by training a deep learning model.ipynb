{
  "cells": [
    {
      "cell_type": "markdown",
      "id": "c63371ab",
      "metadata": {
        "id": "c63371ab"
      },
      "source": [
        "# Assignment-10- Given a Kaggle song lyrics dataset, generate songs by training a deep learning model. Specifically, train the following models: Long short-term memory (LSTM), bidirectional LSTM, one-dimension (1D) ConvNet, Gated Recurrent Unit (GRU), and deep bidirectional LSTM\n"
      ]
    },
    {
      "cell_type": "code",
      "execution_count": 29,
      "id": "6997bcef",
      "metadata": {
        "id": "6997bcef",
        "colab": {
          "base_uri": "https://localhost:8080/",
          "height": 0
        },
        "outputId": "b8e1944e-e1fd-427a-b277-ab53f000632d"
      },
      "outputs": [
        {
          "output_type": "stream",
          "name": "stdout",
          "text": [
            "Drive already mounted at /content/drive; to attempt to forcibly remount, call drive.mount(\"/content/drive\", force_remount=True).\n"
          ]
        }
      ],
      "source": [
        "import tensorflow as tf\n",
        "from tensorflow.keras.models import Sequential\n",
        "from tensorflow.keras.preprocessing.text import Tokenizer\n",
        "from tensorflow.keras.preprocessing.sequence import pad_sequences\n",
        "import string\n",
        "import numpy as np\n",
        "import pandas as pd\n",
        "import tensorflow.keras.utils as ku \n",
        "from tensorflow.keras.layers import Embedding, LSTM, Dense, Bidirectional, GRU\n",
        "from keras.layers import Conv1D, MaxPooling1D, Flatten, GlobalMaxPooling1D\n",
        "import matplotlib.pyplot as plt\n",
        "from google. colab import drive\n",
        "drive.mount('/content/drive')"
      ]
    },
    {
      "cell_type": "code",
      "execution_count": 30,
      "id": "a202556c",
      "metadata": {
        "id": "a202556c"
      },
      "outputs": [],
      "source": [
        "def tokenize_corpus(corpus, num_words=-1):\n",
        "  # Fit a Tokenizer on the corpus\n",
        "  if num_words > -1:\n",
        "    tokenizer = Tokenizer(num_words=num_words)\n",
        "  else:\n",
        "    tokenizer = Tokenizer()\n",
        "  tokenizer.fit_on_texts(corpus)\n",
        "  return tokenizer\n",
        "\n",
        "def create_lyrics_corpus(dataset, field):\n",
        "  # Remove all other punctuation\n",
        "  dataset[field] = dataset[field].str.replace('[{}]'.format(string.punctuation), '')\n",
        "  # Make it lowercase\n",
        "  dataset[field] = dataset[field].str.lower()\n",
        "  # Make it one long string to split by line\n",
        "  lyrics = dataset[field].str.cat()\n",
        "  corpus = lyrics.split('\\n')\n",
        "  # Remove any trailing whitespace\n",
        "  for l in range(len(corpus)):\n",
        "    corpus[l] = corpus[l].rstrip()\n",
        "  # Remove any empty lines\n",
        "  corpus = [l for l in corpus if l != '']\n",
        "  return corpus\n",
        "def tokenize_corpus(corpus, num_words=-1):\n",
        "  # Fit a Tokenizer on the corpus\n",
        "  if num_words > -1:\n",
        "    tokenizer = Tokenizer(num_words=num_words)\n",
        "  else:\n",
        "    tokenizer = Tokenizer()\n",
        "  tokenizer.fit_on_texts(corpus)\n",
        "  return tokenizer"
      ]
    },
    {
      "cell_type": "code",
      "source": [
        ""
      ],
      "metadata": {
        "id": "-R75cn4rXbL5"
      },
      "id": "-R75cn4rXbL5",
      "execution_count": 30,
      "outputs": []
    },
    {
      "cell_type": "code",
      "execution_count": 31,
      "id": "72ecd8a5",
      "metadata": {
        "colab": {
          "base_uri": "https://localhost:8080/",
          "height": 0
        },
        "id": "72ecd8a5",
        "outputId": "002d8eca-c3df-46a6-a840-0d5c8bc0bd5f"
      },
      "outputs": [
        {
          "output_type": "stream",
          "name": "stdout",
          "text": [
            "2000\n"
          ]
        },
        {
          "output_type": "stream",
          "name": "stderr",
          "text": [
            "/usr/local/lib/python3.7/dist-packages/ipykernel_launcher.py:12: FutureWarning: The default value of regex will change from True to False in a future version.\n",
            "  if sys.path[0] == '':\n"
          ]
        }
      ],
      "source": [
        "# Read the dataset from csv \n",
        "dataset = pd.read_csv('/songdata.csv', dtype=str)\n",
        "# Create the corpus using the 'text' column containing lyrics only\n",
        "corpus = create_lyrics_corpus(dataset, 'text')\n",
        "# Tokenize the corpus\n",
        "tokenizer = tokenize_corpus(corpus, num_words=2000)\n",
        "total_words = tokenizer.num_words\n",
        "\n",
        "# There should be 2000 words as per the dataset\n",
        "print(total_words)\n"
      ]
    },
    {
      "cell_type": "code",
      "source": [
        "from google.colab import drive\n",
        "drive.mount('/content/drive')"
      ],
      "metadata": {
        "colab": {
          "base_uri": "https://localhost:8080/",
          "height": 0
        },
        "id": "1SBcatBMbaSq",
        "outputId": "2b88b294-f1f6-4edd-e900-a3278b863435"
      },
      "id": "1SBcatBMbaSq",
      "execution_count": 32,
      "outputs": [
        {
          "output_type": "stream",
          "name": "stdout",
          "text": [
            "Drive already mounted at /content/drive; to attempt to forcibly remount, call drive.mount(\"/content/drive\", force_remount=True).\n"
          ]
        }
      ]
    },
    {
      "cell_type": "code",
      "execution_count": 33,
      "id": "ce91b646",
      "metadata": {
        "id": "ce91b646"
      },
      "outputs": [],
      "source": [
        "sequences = []\n",
        "for line in corpus:\n",
        "\ttoken_list = tokenizer.texts_to_sequences([line])[0]\n",
        "\tfor i in range(1, len(token_list)):\n",
        "\t\tn_gram_sequence = token_list[:i+1]\n",
        "\t\tsequences.append(n_gram_sequence)\n",
        "\n",
        "# Pad sequences for equal input length \n",
        "max_sequence_len = max([len(seq) for seq in sequences])\n",
        "sequences = np.array(pad_sequences(sequences, maxlen=max_sequence_len, padding='pre'))\n",
        "\n",
        "# Split sequences between the \"input\" sequence and \"output\" predicted word\n",
        "input_sequences, labels = sequences[:,:-1], sequences[:,-1]\n",
        "# One-hot encode the labels(changing text to numbers)\n",
        "one_hot_labels = tf.keras.utils.to_categorical(labels, num_classes=total_words)"
      ]
    },
    {
      "cell_type": "code",
      "execution_count": 34,
      "id": "5a3bf8dd",
      "metadata": {
        "id": "5a3bf8dd",
        "outputId": "6d151d23-2760-470e-fdb8-1d89053e9022",
        "colab": {
          "base_uri": "https://localhost:8080/",
          "height": 0
        }
      },
      "outputs": [
        {
          "output_type": "stream",
          "name": "stdout",
          "text": [
            "31\n",
            "158\n",
            "[  0   0   0   0   0   0   0   0   0   0   0   0   0 111  66  86 206  29\n",
            "   4]\n",
            "[   0    0    0    0    0    0    0    0    0    0    0    0  111   66\n",
            "   86  206   29    4 1196]\n",
            "[0. 0. 0. ... 0. 0. 0.]\n",
            "[0. 0. 0. ... 0. 0. 0.]\n"
          ]
        }
      ],
      "source": [
        "# Check out how some of our data is being stored\n",
        "# The Tokenizer has just a single index per word\n",
        "print(tokenizer.word_index['know'])\n",
        "print(tokenizer.word_index['feeling'])\n",
        "# Input sequences will have multiple indexes\n",
        "print(input_sequences[5])\n",
        "print(input_sequences[6])\n",
        "# And the one hot labels will be as long as the full spread of tokenized words\n",
        "print(one_hot_labels[5])\n",
        "print(one_hot_labels[6])"
      ]
    },
    {
      "cell_type": "markdown",
      "id": "9ddd1c9f",
      "metadata": {
        "id": "9ddd1c9f"
      },
      "source": [
        "# LSTM MODEL"
      ]
    },
    {
      "cell_type": "code",
      "execution_count": 35,
      "id": "59a55582",
      "metadata": {
        "id": "59a55582",
        "outputId": "b06a35bd-d738-459a-fd03-0631873dd196",
        "colab": {
          "base_uri": "https://localhost:8080/",
          "height": 0
        }
      },
      "outputs": [
        {
          "output_type": "stream",
          "name": "stdout",
          "text": [
            "Epoch 1/50\n",
            "1480/1480 [==============================] - 20s 12ms/step - loss: 6.0293 - accuracy: 0.0450\n",
            "Epoch 2/50\n",
            "1480/1480 [==============================] - 19s 13ms/step - loss: 5.7651 - accuracy: 0.0483\n",
            "Epoch 3/50\n",
            "1480/1480 [==============================] - 18s 12ms/step - loss: 5.6303 - accuracy: 0.0507\n",
            "Epoch 4/50\n",
            "1480/1480 [==============================] - 18s 12ms/step - loss: 5.4540 - accuracy: 0.0640\n",
            "Epoch 5/50\n",
            "1480/1480 [==============================] - 18s 12ms/step - loss: 5.2826 - accuracy: 0.0917\n",
            "Epoch 6/50\n",
            "1480/1480 [==============================] - 18s 12ms/step - loss: 5.1400 - accuracy: 0.1125\n",
            "Epoch 7/50\n",
            "1480/1480 [==============================] - 18s 12ms/step - loss: 5.0026 - accuracy: 0.1298\n",
            "Epoch 8/50\n",
            "1480/1480 [==============================] - 18s 12ms/step - loss: 4.8731 - accuracy: 0.1403\n",
            "Epoch 9/50\n",
            "1480/1480 [==============================] - 18s 12ms/step - loss: 4.7518 - accuracy: 0.1526\n",
            "Epoch 10/50\n",
            "1480/1480 [==============================] - 18s 12ms/step - loss: 4.6405 - accuracy: 0.1629\n",
            "Epoch 11/50\n",
            "1480/1480 [==============================] - 18s 12ms/step - loss: 4.5403 - accuracy: 0.1739\n",
            "Epoch 12/50\n",
            "1480/1480 [==============================] - 18s 12ms/step - loss: 4.4489 - accuracy: 0.1844\n",
            "Epoch 13/50\n",
            "1480/1480 [==============================] - 18s 12ms/step - loss: 4.3668 - accuracy: 0.1922\n",
            "Epoch 14/50\n",
            "1480/1480 [==============================] - 18s 12ms/step - loss: 4.2942 - accuracy: 0.2012\n",
            "Epoch 15/50\n",
            "1480/1480 [==============================] - 18s 12ms/step - loss: 4.2274 - accuracy: 0.2086\n",
            "Epoch 16/50\n",
            "1480/1480 [==============================] - 18s 12ms/step - loss: 4.1662 - accuracy: 0.2179\n",
            "Epoch 17/50\n",
            "1480/1480 [==============================] - 18s 12ms/step - loss: 4.1103 - accuracy: 0.2242\n",
            "Epoch 18/50\n",
            "1480/1480 [==============================] - 18s 12ms/step - loss: 4.0590 - accuracy: 0.2294\n",
            "Epoch 19/50\n",
            "1480/1480 [==============================] - 18s 12ms/step - loss: 4.0117 - accuracy: 0.2350\n",
            "Epoch 20/50\n",
            "1480/1480 [==============================] - 19s 13ms/step - loss: 3.9680 - accuracy: 0.2409\n",
            "Epoch 21/50\n",
            "1480/1480 [==============================] - 18s 12ms/step - loss: 3.9264 - accuracy: 0.2443\n",
            "Epoch 22/50\n",
            "1480/1480 [==============================] - 18s 12ms/step - loss: 3.8869 - accuracy: 0.2493\n",
            "Epoch 23/50\n",
            "1480/1480 [==============================] - 18s 12ms/step - loss: 3.8508 - accuracy: 0.2561\n",
            "Epoch 24/50\n",
            "1480/1480 [==============================] - 18s 12ms/step - loss: 3.8162 - accuracy: 0.2598\n",
            "Epoch 25/50\n",
            "1480/1480 [==============================] - 18s 12ms/step - loss: 3.7845 - accuracy: 0.2629\n",
            "Epoch 26/50\n",
            "1480/1480 [==============================] - 18s 12ms/step - loss: 3.7545 - accuracy: 0.2689\n",
            "Epoch 27/50\n",
            "1480/1480 [==============================] - 18s 12ms/step - loss: 3.7272 - accuracy: 0.2724\n",
            "Epoch 28/50\n",
            "1480/1480 [==============================] - 18s 12ms/step - loss: 3.6997 - accuracy: 0.2763\n",
            "Epoch 29/50\n",
            "1480/1480 [==============================] - 18s 12ms/step - loss: 3.6744 - accuracy: 0.2788\n",
            "Epoch 30/50\n",
            "1480/1480 [==============================] - 18s 12ms/step - loss: 3.6497 - accuracy: 0.2827\n",
            "Epoch 31/50\n",
            "1480/1480 [==============================] - 18s 12ms/step - loss: 3.6276 - accuracy: 0.2852\n",
            "Epoch 32/50\n",
            "1480/1480 [==============================] - 18s 12ms/step - loss: 3.6057 - accuracy: 0.2885\n",
            "Epoch 33/50\n",
            "1480/1480 [==============================] - 18s 12ms/step - loss: 3.5846 - accuracy: 0.2935\n",
            "Epoch 34/50\n",
            "1480/1480 [==============================] - 18s 12ms/step - loss: 3.5662 - accuracy: 0.2949\n",
            "Epoch 35/50\n",
            "1480/1480 [==============================] - 19s 13ms/step - loss: 3.5477 - accuracy: 0.2969\n",
            "Epoch 36/50\n",
            "1480/1480 [==============================] - 19s 13ms/step - loss: 3.5291 - accuracy: 0.2997\n",
            "Epoch 37/50\n",
            "1480/1480 [==============================] - 18s 12ms/step - loss: 3.5114 - accuracy: 0.3028\n",
            "Epoch 38/50\n",
            "1480/1480 [==============================] - 18s 12ms/step - loss: 3.4957 - accuracy: 0.3061\n",
            "Epoch 39/50\n",
            "1480/1480 [==============================] - 19s 13ms/step - loss: 3.4791 - accuracy: 0.3084\n",
            "Epoch 40/50\n",
            "1480/1480 [==============================] - 19s 13ms/step - loss: 3.4640 - accuracy: 0.3098\n",
            "Epoch 41/50\n",
            "1480/1480 [==============================] - 19s 13ms/step - loss: 3.4483 - accuracy: 0.3121\n",
            "Epoch 42/50\n",
            "1480/1480 [==============================] - 18s 12ms/step - loss: 3.4347 - accuracy: 0.3142\n",
            "Epoch 43/50\n",
            "1480/1480 [==============================] - 19s 13ms/step - loss: 3.4200 - accuracy: 0.3160\n",
            "Epoch 44/50\n",
            "1480/1480 [==============================] - 19s 13ms/step - loss: 3.4063 - accuracy: 0.3185\n",
            "Epoch 45/50\n",
            "1480/1480 [==============================] - 19s 13ms/step - loss: 3.3928 - accuracy: 0.3206\n",
            "Epoch 46/50\n",
            "1480/1480 [==============================] - 19s 13ms/step - loss: 3.3802 - accuracy: 0.3218\n",
            "Epoch 47/50\n",
            "1480/1480 [==============================] - 18s 12ms/step - loss: 3.3684 - accuracy: 0.3249\n",
            "Epoch 48/50\n",
            "1480/1480 [==============================] - 18s 12ms/step - loss: 3.3560 - accuracy: 0.3258\n",
            "Epoch 49/50\n",
            "1480/1480 [==============================] - 18s 12ms/step - loss: 3.3456 - accuracy: 0.3268\n",
            "Epoch 50/50\n",
            "1480/1480 [==============================] - 18s 12ms/step - loss: 3.3335 - accuracy: 0.3295\n"
          ]
        }
      ],
      "source": [
        "model_LSTM = Sequential()\n",
        "model_LSTM.add(Embedding(total_words, 64, input_length=max_sequence_len-1))\n",
        "model_LSTM.add(LSTM(20))\n",
        "model_LSTM.add(Dense(total_words, activation='softmax'))\n",
        "model_LSTM.compile(loss='categorical_crossentropy', optimizer='adam', metrics=['accuracy'])\n",
        "history_LSTM = model_LSTM.fit(input_sequences, one_hot_labels, epochs=50, verbose=1)"
      ]
    },
    {
      "cell_type": "code",
      "execution_count": 36,
      "id": "5713cd0a",
      "metadata": {
        "id": "5713cd0a",
        "outputId": "2dc2acd6-a828-4adc-af9a-df96058fd482",
        "colab": {
          "base_uri": "https://localhost:8080/",
          "height": 282
        }
      },
      "outputs": [
        {
          "output_type": "display_data",
          "data": {
            "text/plain": [
              "<Figure size 432x288 with 1 Axes>"
            ],
            "image/png": "[encoded data removed]"
          },
          "metadata": {
            "needs_background": "light"
          }
        },
        {
          "output_type": "display_data",
          "data": {
            "text/plain": [
              "<Figure size 432x288 with 0 Axes>"
            ]
          },
          "metadata": {}
        }
      ],
      "source": [
        "# plot the accuracy for LTSM\n",
        "plt.plot(history_LSTM.history['accuracy'], label='train acc')\n",
        "plt.legend()\n",
        "plt.show()\n",
        "plt.savefig('AccVal_acc')"
      ]
    },
    {
      "cell_type": "markdown",
      "id": "3d48bc2f",
      "metadata": {
        "id": "3d48bc2f"
      },
      "source": [
        "# Bidirectional - LSTM"
      ]
    },
    {
      "cell_type": "code",
      "execution_count": 37,
      "id": "b6fe704a",
      "metadata": {
        "id": "b6fe704a",
        "outputId": "4ab4a185-38d8-4d08-95d6-50065a9d5bcc",
        "colab": {
          "base_uri": "https://localhost:8080/",
          "height": 0
        }
      },
      "outputs": [
        {
          "output_type": "stream",
          "name": "stdout",
          "text": [
            "Epoch 1/50\n",
            "1480/1480 [==============================] - 28s 17ms/step - loss: 5.9864 - accuracy: 0.0465\n",
            "Epoch 2/50\n",
            "1480/1480 [==============================] - 25s 17ms/step - loss: 5.6851 - accuracy: 0.0524\n",
            "Epoch 3/50\n",
            "1480/1480 [==============================] - 25s 17ms/step - loss: 5.4690 - accuracy: 0.0694\n",
            "Epoch 4/50\n",
            "1480/1480 [==============================] - 25s 17ms/step - loss: 5.2661 - accuracy: 0.1028\n",
            "Epoch 5/50\n",
            "1480/1480 [==============================] - 25s 17ms/step - loss: 5.0588 - accuracy: 0.1231\n",
            "Epoch 6/50\n",
            "1480/1480 [==============================] - 26s 17ms/step - loss: 4.8749 - accuracy: 0.1390\n",
            "Epoch 7/50\n",
            "1480/1480 [==============================] - 25s 17ms/step - loss: 4.7078 - accuracy: 0.1568\n",
            "Epoch 8/50\n",
            "1480/1480 [==============================] - 25s 17ms/step - loss: 4.5629 - accuracy: 0.1738\n",
            "Epoch 9/50\n",
            "1480/1480 [==============================] - 25s 17ms/step - loss: 4.4359 - accuracy: 0.1874\n",
            "Epoch 10/50\n",
            "1480/1480 [==============================] - 25s 17ms/step - loss: 4.3209 - accuracy: 0.2000\n",
            "Epoch 11/50\n",
            "1480/1480 [==============================] - 25s 17ms/step - loss: 4.2149 - accuracy: 0.2130\n",
            "Epoch 12/50\n",
            "1480/1480 [==============================] - 26s 17ms/step - loss: 4.1179 - accuracy: 0.2266\n",
            "Epoch 13/50\n",
            "1480/1480 [==============================] - 26s 17ms/step - loss: 4.0297 - accuracy: 0.2384\n",
            "Epoch 14/50\n",
            "1480/1480 [==============================] - 26s 17ms/step - loss: 3.9485 - accuracy: 0.2488\n",
            "Epoch 15/50\n",
            "1480/1480 [==============================] - 25s 17ms/step - loss: 3.8747 - accuracy: 0.2582\n",
            "Epoch 16/50\n",
            "1480/1480 [==============================] - 25s 17ms/step - loss: 3.8092 - accuracy: 0.2648\n",
            "Epoch 17/50\n",
            "1480/1480 [==============================] - 25s 17ms/step - loss: 3.7481 - accuracy: 0.2726\n",
            "Epoch 18/50\n",
            "1480/1480 [==============================] - 25s 17ms/step - loss: 3.6918 - accuracy: 0.2804\n",
            "Epoch 19/50\n",
            "1480/1480 [==============================] - 25s 17ms/step - loss: 3.6376 - accuracy: 0.2884\n",
            "Epoch 20/50\n",
            "1480/1480 [==============================] - 25s 17ms/step - loss: 3.5880 - accuracy: 0.2969\n",
            "Epoch 21/50\n",
            "1480/1480 [==============================] - 25s 17ms/step - loss: 3.5412 - accuracy: 0.3023\n",
            "Epoch 22/50\n",
            "1480/1480 [==============================] - 25s 17ms/step - loss: 3.4975 - accuracy: 0.3084\n",
            "Epoch 23/50\n",
            "1480/1480 [==============================] - 25s 17ms/step - loss: 3.4557 - accuracy: 0.3129\n",
            "Epoch 24/50\n",
            "1480/1480 [==============================] - 25s 17ms/step - loss: 3.4155 - accuracy: 0.3200\n",
            "Epoch 25/50\n",
            "1480/1480 [==============================] - 25s 17ms/step - loss: 3.3880 - accuracy: 0.3224\n",
            "Epoch 26/50\n",
            "1480/1480 [==============================] - 26s 17ms/step - loss: 3.3479 - accuracy: 0.3297\n",
            "Epoch 27/50\n",
            "1480/1480 [==============================] - 26s 17ms/step - loss: 3.3083 - accuracy: 0.3340\n",
            "Epoch 28/50\n",
            "1480/1480 [==============================] - 26s 17ms/step - loss: 3.2811 - accuracy: 0.3398\n",
            "Epoch 29/50\n",
            "1480/1480 [==============================] - 26s 17ms/step - loss: 3.2419 - accuracy: 0.3451\n",
            "Epoch 30/50\n",
            "1480/1480 [==============================] - 25s 17ms/step - loss: 3.2222 - accuracy: 0.3479\n",
            "Epoch 31/50\n",
            "1480/1480 [==============================] - 25s 17ms/step - loss: 3.1909 - accuracy: 0.3535\n",
            "Epoch 32/50\n",
            "1480/1480 [==============================] - 25s 17ms/step - loss: 3.1601 - accuracy: 0.3580\n",
            "Epoch 33/50\n",
            "1480/1480 [==============================] - 25s 17ms/step - loss: 3.1394 - accuracy: 0.3604\n",
            "Epoch 34/50\n",
            "1480/1480 [==============================] - 25s 17ms/step - loss: 3.1119 - accuracy: 0.3660\n",
            "Epoch 35/50\n",
            "1480/1480 [==============================] - 25s 17ms/step - loss: 3.0872 - accuracy: 0.3702\n",
            "Epoch 36/50\n",
            "1480/1480 [==============================] - 25s 17ms/step - loss: 3.0651 - accuracy: 0.3728\n",
            "Epoch 37/50\n",
            "1480/1480 [==============================] - 25s 17ms/step - loss: 3.0425 - accuracy: 0.3775\n",
            "Epoch 38/50\n",
            "1480/1480 [==============================] - 25s 17ms/step - loss: 3.0200 - accuracy: 0.3818\n",
            "Epoch 39/50\n",
            "1480/1480 [==============================] - 25s 17ms/step - loss: 2.9937 - accuracy: 0.3850\n",
            "Epoch 40/50\n",
            "1480/1480 [==============================] - 25s 17ms/step - loss: 2.9858 - accuracy: 0.3880\n",
            "Epoch 41/50\n",
            "1480/1480 [==============================] - 25s 17ms/step - loss: 2.9541 - accuracy: 0.3900\n",
            "Epoch 42/50\n",
            "1480/1480 [==============================] - 25s 17ms/step - loss: 2.9364 - accuracy: 0.3936\n",
            "Epoch 43/50\n",
            "1480/1480 [==============================] - 26s 17ms/step - loss: 2.9131 - accuracy: 0.3984\n",
            "Epoch 44/50\n",
            "1480/1480 [==============================] - 26s 17ms/step - loss: 2.8981 - accuracy: 0.4016\n",
            "Epoch 45/50\n",
            "1480/1480 [==============================] - 26s 17ms/step - loss: 2.8985 - accuracy: 0.3993\n",
            "Epoch 46/50\n",
            "1480/1480 [==============================] - 25s 17ms/step - loss: 2.8721 - accuracy: 0.4050\n",
            "Epoch 47/50\n",
            "1480/1480 [==============================] - 26s 17ms/step - loss: 2.8463 - accuracy: 0.4089\n",
            "Epoch 48/50\n",
            "1480/1480 [==============================] - 26s 17ms/step - loss: 2.8339 - accuracy: 0.4103\n",
            "Epoch 49/50\n",
            "1480/1480 [==============================] - 26s 17ms/step - loss: 2.8127 - accuracy: 0.4132\n",
            "Epoch 50/50\n",
            "1480/1480 [==============================] - 26s 17ms/step - loss: 2.8028 - accuracy: 0.4149\n"
          ]
        }
      ],
      "source": [
        "model_BL = Sequential()\n",
        "model_BL.add(Embedding(total_words, 64, input_length=max_sequence_len-1))\n",
        "model_BL.add(Bidirectional(LSTM(20)))\n",
        "model_BL.add(Dense(total_words, activation='softmax'))\n",
        "model_BL.compile(loss='categorical_crossentropy', optimizer='adam', metrics=['accuracy'])\n",
        "history_BL = model_BL.fit(input_sequences, one_hot_labels, epochs=50, verbose=1)"
      ]
    },
    {
      "cell_type": "code",
      "execution_count": 38,
      "id": "a88c9d42",
      "metadata": {
        "id": "a88c9d42",
        "outputId": "1b1e1d92-746e-4451-c351-ba03859ff775",
        "colab": {
          "base_uri": "https://localhost:8080/",
          "height": 282
        }
      },
      "outputs": [
        {
          "output_type": "display_data",
          "data": {
            "text/plain": [
              "<Figure size 432x288 with 1 Axes>"
            ],
            "image/png": "[encoded data removed]"
          },
          "metadata": {
            "needs_background": "light"
          }
        },
        {
          "output_type": "display_data",
          "data": {
            "text/plain": [
              "<Figure size 432x288 with 0 Axes>"
            ]
          },
          "metadata": {}
        }
      ],
      "source": [
        "# plot the accuracy for Bidirectional LTSM\n",
        "plt.plot(history_BL.history['accuracy'], label='train acc')\n",
        "plt.legend()\n",
        "plt.show()\n",
        "plt.savefig('AccVal_acc')"
      ]
    },
    {
      "cell_type": "markdown",
      "id": "7a2a6607",
      "metadata": {
        "id": "7a2a6607"
      },
      "source": [
        "# Deep Bidirectional"
      ]
    },
    {
      "cell_type": "code",
      "execution_count": 41,
      "id": "0a2c31fe",
      "metadata": {
        "id": "0a2c31fe",
        "outputId": "d3853ed6-f2e5-491f-ccc8-29ce74ef5153",
        "colab": {
          "base_uri": "https://localhost:8080/",
          "height": 0
        }
      },
      "outputs": [
        {
          "output_type": "stream",
          "name": "stdout",
          "text": [
            "Epoch 1/50\n",
            "1480/1480 [==============================] - 86s 29ms/step - loss: 5.9653 - accuracy: 0.0478\n",
            "Epoch 2/50\n",
            "1480/1480 [==============================] - 42s 29ms/step - loss: 5.6123 - accuracy: 0.0545\n",
            "Epoch 3/50\n",
            "1480/1480 [==============================] - 41s 28ms/step - loss: 5.4731 - accuracy: 0.0612\n",
            "Epoch 4/50\n",
            "1480/1480 [==============================] - 41s 28ms/step - loss: 5.3466 - accuracy: 0.0706\n",
            "Epoch 5/50\n",
            "1480/1480 [==============================] - 41s 28ms/step - loss: 5.2168 - accuracy: 0.0799\n",
            "Epoch 6/50\n",
            "1480/1480 [==============================] - 42s 28ms/step - loss: 5.0899 - accuracy: 0.0926\n",
            "Epoch 7/50\n",
            "1480/1480 [==============================] - 41s 28ms/step - loss: 4.9748 - accuracy: 0.1092\n",
            "Epoch 8/50\n",
            "1480/1480 [==============================] - 42s 28ms/step - loss: 4.8670 - accuracy: 0.1234\n",
            "Epoch 9/50\n",
            "1480/1480 [==============================] - 41s 28ms/step - loss: 4.7579 - accuracy: 0.1338\n",
            "Epoch 10/50\n",
            "1480/1480 [==============================] - 41s 28ms/step - loss: 4.6565 - accuracy: 0.1438\n",
            "Epoch 11/50\n",
            "1480/1480 [==============================] - 42s 29ms/step - loss: 4.5608 - accuracy: 0.1545\n",
            "Epoch 12/50\n",
            "1480/1480 [==============================] - 44s 30ms/step - loss: 4.4723 - accuracy: 0.1660\n",
            "Epoch 13/50\n",
            "1480/1480 [==============================] - 43s 29ms/step - loss: 4.3939 - accuracy: 0.1749\n",
            "Epoch 14/50\n",
            "1480/1480 [==============================] - 44s 29ms/step - loss: 4.3160 - accuracy: 0.1853\n",
            "Epoch 15/50\n",
            "1480/1480 [==============================] - 43s 29ms/step - loss: 4.2439 - accuracy: 0.1947\n",
            "Epoch 16/50\n",
            "1480/1480 [==============================] - 43s 29ms/step - loss: 4.1759 - accuracy: 0.2032\n",
            "Epoch 17/50\n",
            "1480/1480 [==============================] - 43s 29ms/step - loss: 4.1121 - accuracy: 0.2116\n",
            "Epoch 18/50\n",
            "1480/1480 [==============================] - 43s 29ms/step - loss: 4.0497 - accuracy: 0.2211\n",
            "Epoch 19/50\n",
            "1480/1480 [==============================] - 43s 29ms/step - loss: 3.9956 - accuracy: 0.2272\n",
            "Epoch 20/50\n",
            "1480/1480 [==============================] - 44s 30ms/step - loss: 3.9400 - accuracy: 0.2337\n",
            "Epoch 21/50\n",
            "1480/1480 [==============================] - 44s 29ms/step - loss: 3.8895 - accuracy: 0.2425\n",
            "Epoch 22/50\n",
            "1480/1480 [==============================] - 42s 28ms/step - loss: 3.8331 - accuracy: 0.2508\n",
            "Epoch 23/50\n",
            "1480/1480 [==============================] - 42s 28ms/step - loss: 3.7841 - accuracy: 0.2585\n",
            "Epoch 24/50\n",
            "1480/1480 [==============================] - 41s 28ms/step - loss: 3.7390 - accuracy: 0.2632\n",
            "Epoch 25/50\n",
            "1480/1480 [==============================] - 41s 28ms/step - loss: 3.6994 - accuracy: 0.2711\n",
            "Epoch 26/50\n",
            "1480/1480 [==============================] - 41s 28ms/step - loss: 3.6555 - accuracy: 0.2783\n",
            "Epoch 27/50\n",
            "1480/1480 [==============================] - 41s 28ms/step - loss: 3.6152 - accuracy: 0.2831\n",
            "Epoch 28/50\n",
            "1480/1480 [==============================] - 41s 28ms/step - loss: 3.5796 - accuracy: 0.2902\n",
            "Epoch 29/50\n",
            "1480/1480 [==============================] - 42s 29ms/step - loss: 3.5362 - accuracy: 0.2976\n",
            "Epoch 30/50\n",
            "1480/1480 [==============================] - 43s 29ms/step - loss: 3.4952 - accuracy: 0.3047\n",
            "Epoch 31/50\n",
            "1480/1480 [==============================] - 42s 28ms/step - loss: 3.4642 - accuracy: 0.3077\n",
            "Epoch 32/50\n",
            "1480/1480 [==============================] - 42s 29ms/step - loss: 3.4283 - accuracy: 0.3141\n",
            "Epoch 33/50\n",
            "1480/1480 [==============================] - 43s 29ms/step - loss: 3.3949 - accuracy: 0.3190\n",
            "Epoch 34/50\n",
            "1480/1480 [==============================] - 43s 29ms/step - loss: 3.3618 - accuracy: 0.3245\n",
            "Epoch 35/50\n",
            "1480/1480 [==============================] - 47s 32ms/step - loss: 3.3272 - accuracy: 0.3289\n",
            "Epoch 36/50\n",
            "1480/1480 [==============================] - 43s 29ms/step - loss: 3.2987 - accuracy: 0.3341\n",
            "Epoch 37/50\n",
            "1480/1480 [==============================] - 43s 29ms/step - loss: 3.2746 - accuracy: 0.3345\n",
            "Epoch 38/50\n",
            "1480/1480 [==============================] - 43s 29ms/step - loss: 3.2407 - accuracy: 0.3443\n",
            "Epoch 39/50\n",
            "1480/1480 [==============================] - 43s 29ms/step - loss: 3.2093 - accuracy: 0.3487\n",
            "Epoch 40/50\n",
            "1480/1480 [==============================] - 43s 29ms/step - loss: 3.1828 - accuracy: 0.3526\n",
            "Epoch 41/50\n",
            "1480/1480 [==============================] - 44s 29ms/step - loss: 3.1578 - accuracy: 0.3577\n",
            "Epoch 42/50\n",
            "1480/1480 [==============================] - 43s 29ms/step - loss: 3.1380 - accuracy: 0.3599\n",
            "Epoch 43/50\n",
            "1480/1480 [==============================] - 43s 29ms/step - loss: 3.1089 - accuracy: 0.3644\n",
            "Epoch 44/50\n",
            "1480/1480 [==============================] - 43s 29ms/step - loss: 3.0796 - accuracy: 0.3685\n",
            "Epoch 45/50\n",
            "1480/1480 [==============================] - 43s 29ms/step - loss: 3.0565 - accuracy: 0.3736\n",
            "Epoch 46/50\n",
            "1480/1480 [==============================] - 43s 29ms/step - loss: 3.0434 - accuracy: 0.3753\n",
            "Epoch 47/50\n",
            "1480/1480 [==============================] - 43s 29ms/step - loss: 3.0157 - accuracy: 0.3806\n",
            "Epoch 48/50\n",
            "1480/1480 [==============================] - 43s 29ms/step - loss: 2.9937 - accuracy: 0.3833\n",
            "Epoch 49/50\n",
            "1480/1480 [==============================] - 42s 29ms/step - loss: 2.9771 - accuracy: 0.3858\n",
            "Epoch 50/50\n",
            "1480/1480 [==============================] - 42s 29ms/step - loss: 2.9524 - accuracy: 0.3903\n"
          ]
        }
      ],
      "source": [
        "model_DB = Sequential()\n",
        "model_DB.add(Embedding(total_words, 64, input_length=max_sequence_len-1))\n",
        "model_DB.add(Bidirectional(LSTM(20, return_sequences=True)))\n",
        "model_DB.add(Bidirectional(LSTM(20)))\n",
        "model_DB.add(Dense(total_words, activation='softmax'))\n",
        "model_DB.compile(loss='categorical_crossentropy', optimizer='adam', metrics=['accuracy'])\n",
        "history_DB = model_DB.fit(input_sequences, one_hot_labels, epochs=50, verbose=1)"
      ]
    },
    {
      "cell_type": "code",
      "execution_count": 42,
      "id": "67dd2969",
      "metadata": {
        "id": "67dd2969",
        "outputId": "c6772193-76a5-4bbf-85fa-77bfed18d77c",
        "colab": {
          "base_uri": "https://localhost:8080/",
          "height": 282
        }
      },
      "outputs": [
        {
          "output_type": "display_data",
          "data": {
            "text/plain": [
              "<Figure size 432x288 with 1 Axes>"
            ],
            "image/png": "[encoded data removed]"
          },
          "metadata": {
            "needs_background": "light"
          }
        },
        {
          "output_type": "display_data",
          "data": {
            "text/plain": [
              "<Figure size 432x288 with 0 Axes>"
            ]
          },
          "metadata": {}
        }
      ],
      "source": [
        "# plot the accuracy for Deep Bidirectional LTSM\n",
        "plt.plot(history_DB.history['accuracy'], label='train acc')\n",
        "plt.legend()\n",
        "plt.show()\n",
        "plt.savefig('AccVal_acc')"
      ]
    },
    {
      "cell_type": "markdown",
      "id": "63d59b8a",
      "metadata": {
        "id": "63d59b8a"
      },
      "source": [
        "# RNN GRU"
      ]
    },
    {
      "cell_type": "code",
      "execution_count": 43,
      "id": "ef335486",
      "metadata": {
        "id": "ef335486",
        "outputId": "643c2394-a0e4-44f6-aa60-8dd91d6cccd3",
        "colab": {
          "base_uri": "https://localhost:8080/",
          "height": 0
        }
      },
      "outputs": [
        {
          "output_type": "stream",
          "name": "stdout",
          "text": [
            "Epoch 1/50\n",
            "1480/1480 [==============================] - 22s 14ms/step - loss: 6.0123 - accuracy: 0.0473\n",
            "Epoch 2/50\n",
            "1480/1480 [==============================] - 20s 14ms/step - loss: 5.6105 - accuracy: 0.0588\n",
            "Epoch 3/50\n",
            "1480/1480 [==============================] - 20s 14ms/step - loss: 5.3695 - accuracy: 0.0846\n",
            "Epoch 4/50\n",
            "1480/1480 [==============================] - 20s 14ms/step - loss: 5.1423 - accuracy: 0.1174\n",
            "Epoch 5/50\n",
            "1480/1480 [==============================] - 20s 13ms/step - loss: 4.9500 - accuracy: 0.1350\n",
            "Epoch 6/50\n",
            "1480/1480 [==============================] - 20s 13ms/step - loss: 4.7877 - accuracy: 0.1503\n",
            "Epoch 7/50\n",
            "1480/1480 [==============================] - 20s 13ms/step - loss: 4.6513 - accuracy: 0.1630\n",
            "Epoch 8/50\n",
            "1480/1480 [==============================] - 20s 13ms/step - loss: 4.5367 - accuracy: 0.1742\n",
            "Epoch 9/50\n",
            "1480/1480 [==============================] - 20s 13ms/step - loss: 4.4400 - accuracy: 0.1824\n",
            "Epoch 10/50\n",
            "1480/1480 [==============================] - 20s 13ms/step - loss: 4.3532 - accuracy: 0.1940\n",
            "Epoch 11/50\n",
            "1480/1480 [==============================] - 20s 13ms/step - loss: 4.2780 - accuracy: 0.2010\n",
            "Epoch 12/50\n",
            "1480/1480 [==============================] - 20s 13ms/step - loss: 4.2079 - accuracy: 0.2112\n",
            "Epoch 13/50\n",
            "1480/1480 [==============================] - 20s 13ms/step - loss: 4.1483 - accuracy: 0.2183\n",
            "Epoch 14/50\n",
            "1480/1480 [==============================] - 20s 14ms/step - loss: 4.0918 - accuracy: 0.2270\n",
            "Epoch 15/50\n",
            "1480/1480 [==============================] - 20s 13ms/step - loss: 4.0394 - accuracy: 0.2331\n",
            "Epoch 16/50\n",
            "1480/1480 [==============================] - 20s 14ms/step - loss: 3.9931 - accuracy: 0.2395\n",
            "Epoch 17/50\n",
            "1480/1480 [==============================] - 20s 14ms/step - loss: 3.9502 - accuracy: 0.2456\n",
            "Epoch 18/50\n",
            "1480/1480 [==============================] - 20s 13ms/step - loss: 3.9077 - accuracy: 0.2508\n",
            "Epoch 19/50\n",
            "1480/1480 [==============================] - 20s 14ms/step - loss: 3.8694 - accuracy: 0.2567\n",
            "Epoch 20/50\n",
            "1480/1480 [==============================] - 20s 14ms/step - loss: 3.8329 - accuracy: 0.2624\n",
            "Epoch 21/50\n",
            "1480/1480 [==============================] - 20s 14ms/step - loss: 3.7999 - accuracy: 0.2647\n",
            "Epoch 22/50\n",
            "1480/1480 [==============================] - 20s 14ms/step - loss: 3.7677 - accuracy: 0.2701\n",
            "Epoch 23/50\n",
            "1480/1480 [==============================] - 20s 14ms/step - loss: 3.7390 - accuracy: 0.2755\n",
            "Epoch 24/50\n",
            "1480/1480 [==============================] - 20s 14ms/step - loss: 3.7129 - accuracy: 0.2778\n",
            "Epoch 25/50\n",
            "1480/1480 [==============================] - 20s 14ms/step - loss: 3.6869 - accuracy: 0.2816\n",
            "Epoch 26/50\n",
            "1480/1480 [==============================] - 20s 14ms/step - loss: 3.6636 - accuracy: 0.2854\n",
            "Epoch 27/50\n",
            "1480/1480 [==============================] - 20s 14ms/step - loss: 3.6420 - accuracy: 0.2883\n",
            "Epoch 28/50\n",
            "1480/1480 [==============================] - 20s 14ms/step - loss: 3.6197 - accuracy: 0.2911\n",
            "Epoch 29/50\n",
            "1480/1480 [==============================] - 20s 14ms/step - loss: 3.5998 - accuracy: 0.2939\n",
            "Epoch 30/50\n",
            "1480/1480 [==============================] - 20s 14ms/step - loss: 3.5794 - accuracy: 0.2963\n",
            "Epoch 31/50\n",
            "1480/1480 [==============================] - 20s 14ms/step - loss: 3.5623 - accuracy: 0.2979\n",
            "Epoch 32/50\n",
            "1480/1480 [==============================] - 20s 14ms/step - loss: 3.5434 - accuracy: 0.3000\n",
            "Epoch 33/50\n",
            "1480/1480 [==============================] - 20s 14ms/step - loss: 3.5266 - accuracy: 0.3037\n",
            "Epoch 34/50\n",
            "1480/1480 [==============================] - 20s 13ms/step - loss: 3.5111 - accuracy: 0.3053\n",
            "Epoch 35/50\n",
            "1480/1480 [==============================] - 20s 13ms/step - loss: 3.4946 - accuracy: 0.3085\n",
            "Epoch 36/50\n",
            "1480/1480 [==============================] - 20s 13ms/step - loss: 3.4810 - accuracy: 0.3084\n",
            "Epoch 37/50\n",
            "1480/1480 [==============================] - 20s 14ms/step - loss: 3.4671 - accuracy: 0.3108\n",
            "Epoch 38/50\n",
            "1480/1480 [==============================] - 20s 14ms/step - loss: 3.4531 - accuracy: 0.3149\n",
            "Epoch 39/50\n",
            "1480/1480 [==============================] - 20s 13ms/step - loss: 3.4396 - accuracy: 0.3144\n",
            "Epoch 40/50\n",
            "1480/1480 [==============================] - 20s 13ms/step - loss: 3.4268 - accuracy: 0.3187\n",
            "Epoch 41/50\n",
            "1480/1480 [==============================] - 20s 14ms/step - loss: 3.4152 - accuracy: 0.3191\n",
            "Epoch 42/50\n",
            "1480/1480 [==============================] - 20s 13ms/step - loss: 3.4024 - accuracy: 0.3216\n",
            "Epoch 43/50\n",
            "1480/1480 [==============================] - 20s 14ms/step - loss: 3.3910 - accuracy: 0.3235\n",
            "Epoch 44/50\n",
            "1480/1480 [==============================] - 20s 13ms/step - loss: 3.3805 - accuracy: 0.3246\n",
            "Epoch 45/50\n",
            "1480/1480 [==============================] - 20s 13ms/step - loss: 3.3684 - accuracy: 0.3264\n",
            "Epoch 46/50\n",
            "1480/1480 [==============================] - 20s 13ms/step - loss: 3.3586 - accuracy: 0.3269\n",
            "Epoch 47/50\n",
            "1480/1480 [==============================] - 19s 13ms/step - loss: 3.3473 - accuracy: 0.3302\n",
            "Epoch 48/50\n",
            "1480/1480 [==============================] - 19s 13ms/step - loss: 3.3378 - accuracy: 0.3307\n",
            "Epoch 49/50\n",
            "1480/1480 [==============================] - 19s 13ms/step - loss: 3.3281 - accuracy: 0.3323\n",
            "Epoch 50/50\n",
            "1480/1480 [==============================] - 20s 13ms/step - loss: 3.3174 - accuracy: 0.3341\n"
          ]
        }
      ],
      "source": [
        "model_GRU = Sequential()\n",
        "model_GRU.add(Embedding(total_words, 64, input_length=max_sequence_len-1))\n",
        "model_GRU.add(GRU(20))\n",
        "model_GRU.add(Dense(total_words, activation='softmax'))\n",
        "model_GRU.compile(loss='categorical_crossentropy', optimizer='adam', metrics=['accuracy'])\n",
        "history_GRU = model_GRU.fit(input_sequences, one_hot_labels, epochs=50, verbose=1)"
      ]
    },
    {
      "cell_type": "code",
      "execution_count": 44,
      "id": "58e8a433",
      "metadata": {
        "id": "58e8a433",
        "outputId": "136dbd66-b52b-4ddf-cbbc-39cb88b2f87a",
        "colab": {
          "base_uri": "https://localhost:8080/",
          "height": 282
        }
      },
      "outputs": [
        {
          "output_type": "display_data",
          "data": {
            "text/plain": [
              "<Figure size 432x288 with 1 Axes>"
            ],
            "image/png": "[encoded data removed]"
          },
          "metadata": {
            "needs_background": "light"
          }
        },
        {
          "output_type": "display_data",
          "data": {
            "text/plain": [
              "<Figure size 432x288 with 0 Axes>"
            ]
          },
          "metadata": {}
        }
      ],
      "source": [
        "# plot the accuracy for RNN GRU\n",
        "plt.plot(history_GRU.history['accuracy'], label='train acc')\n",
        "plt.legend()\n",
        "plt.show()\n",
        "plt.savefig('AccVal_acc')"
      ]
    },
    {
      "cell_type": "markdown",
      "id": "c5980ecd",
      "metadata": {
        "id": "c5980ecd"
      },
      "source": [
        "# one-dimension (1D) ConvNet"
      ]
    },
    {
      "cell_type": "code",
      "execution_count": 46,
      "id": "198100af",
      "metadata": {
        "id": "198100af"
      },
      "outputs": [],
      "source": [
        "model_1D = Sequential()\n",
        "model_1D.add(Embedding(total_words, 64, input_length=max_sequence_len-1))\n",
        "model_1D.add(Conv1D(25, 3,activation='softmax'))\n",
        "model_1D.add(Conv1D(25, 3,activation='softmax'))\n",
        "model_1D.add(Conv1D(20, 3,activation='softmax'))\n",
        "model_1D.add(GlobalMaxPooling1D())\n",
        "model_1D.add(Dense(total_words, activation='softmax'))"
      ]
    },
    {
      "cell_type": "code",
      "execution_count": 47,
      "id": "cace53f8",
      "metadata": {
        "id": "cace53f8"
      },
      "outputs": [],
      "source": [
        "model_1D.compile(loss='categorical_crossentropy', optimizer='adam', metrics=['accuracy'])"
      ]
    },
    {
      "cell_type": "code",
      "execution_count": 48,
      "id": "41b7ba5b",
      "metadata": {
        "id": "41b7ba5b",
        "outputId": "aa8afaf3-1c39-418d-a23d-b380cc03902b",
        "colab": {
          "base_uri": "https://localhost:8080/",
          "height": 0
        }
      },
      "outputs": [
        {
          "output_type": "stream",
          "name": "stdout",
          "text": [
            "Epoch 1/50\n",
            "1480/1480 [==============================] - 13s 8ms/step - loss: 6.5547 - accuracy: 0.0435\n",
            "Epoch 2/50\n",
            "1480/1480 [==============================] - 12s 8ms/step - loss: 6.0207 - accuracy: 0.0469\n",
            "Epoch 3/50\n",
            "1480/1480 [==============================] - 11s 8ms/step - loss: 5.9852 - accuracy: 0.0470\n",
            "Epoch 4/50\n",
            "1480/1480 [==============================] - 11s 8ms/step - loss: 5.9615 - accuracy: 0.0476\n",
            "Epoch 5/50\n",
            "1480/1480 [==============================] - 11s 8ms/step - loss: 5.9425 - accuracy: 0.0486\n",
            "Epoch 6/50\n",
            "1480/1480 [==============================] - 13s 9ms/step - loss: 5.9215 - accuracy: 0.0491\n",
            "Epoch 7/50\n",
            "1480/1480 [==============================] - 11s 8ms/step - loss: 5.9070 - accuracy: 0.0498\n",
            "Epoch 8/50\n",
            "1480/1480 [==============================] - 12s 8ms/step - loss: 5.8960 - accuracy: 0.0505\n",
            "Epoch 9/50\n",
            "1480/1480 [==============================] - 12s 8ms/step - loss: 5.8867 - accuracy: 0.0506\n",
            "Epoch 10/50\n",
            "1480/1480 [==============================] - 12s 8ms/step - loss: 5.8778 - accuracy: 0.0512\n",
            "Epoch 11/50\n",
            "1480/1480 [==============================] - 11s 8ms/step - loss: 5.8696 - accuracy: 0.0513\n",
            "Epoch 12/50\n",
            "1480/1480 [==============================] - 11s 8ms/step - loss: 5.8613 - accuracy: 0.0519\n",
            "Epoch 13/50\n",
            "1480/1480 [==============================] - 12s 8ms/step - loss: 5.8545 - accuracy: 0.0524\n",
            "Epoch 14/50\n",
            "1480/1480 [==============================] - 11s 8ms/step - loss: 5.8470 - accuracy: 0.0526\n",
            "Epoch 15/50\n",
            "1480/1480 [==============================] - 12s 8ms/step - loss: 5.8323 - accuracy: 0.0529\n",
            "Epoch 16/50\n",
            "1480/1480 [==============================] - 11s 8ms/step - loss: 5.8138 - accuracy: 0.0533\n",
            "Epoch 17/50\n",
            "1480/1480 [==============================] - 12s 8ms/step - loss: 5.7993 - accuracy: 0.0545\n",
            "Epoch 18/50\n",
            "1480/1480 [==============================] - 11s 8ms/step - loss: 5.7866 - accuracy: 0.0554\n",
            "Epoch 19/50\n",
            "1480/1480 [==============================] - 11s 8ms/step - loss: 5.7763 - accuracy: 0.0570\n",
            "Epoch 20/50\n",
            "1480/1480 [==============================] - 11s 8ms/step - loss: 5.7655 - accuracy: 0.0570\n",
            "Epoch 21/50\n",
            "1480/1480 [==============================] - 11s 8ms/step - loss: 5.7559 - accuracy: 0.0577\n",
            "Epoch 22/50\n",
            "1480/1480 [==============================] - 11s 8ms/step - loss: 5.7447 - accuracy: 0.0584\n",
            "Epoch 23/50\n",
            "1480/1480 [==============================] - 11s 8ms/step - loss: 5.7294 - accuracy: 0.0591\n",
            "Epoch 24/50\n",
            "1480/1480 [==============================] - 11s 8ms/step - loss: 5.7144 - accuracy: 0.0588\n",
            "Epoch 25/50\n",
            "1480/1480 [==============================] - 12s 8ms/step - loss: 5.7008 - accuracy: 0.0590\n",
            "Epoch 26/50\n",
            "1480/1480 [==============================] - 12s 8ms/step - loss: 5.6874 - accuracy: 0.0591\n",
            "Epoch 27/50\n",
            "1480/1480 [==============================] - 12s 8ms/step - loss: 5.6749 - accuracy: 0.0596\n",
            "Epoch 28/50\n",
            "1480/1480 [==============================] - 12s 8ms/step - loss: 5.6614 - accuracy: 0.0597\n",
            "Epoch 29/50\n",
            "1480/1480 [==============================] - 12s 8ms/step - loss: 5.6474 - accuracy: 0.0604\n",
            "Epoch 30/50\n",
            "1480/1480 [==============================] - 12s 8ms/step - loss: 5.6348 - accuracy: 0.0603\n",
            "Epoch 31/50\n",
            "1480/1480 [==============================] - 12s 8ms/step - loss: 5.6179 - accuracy: 0.0599\n",
            "Epoch 32/50\n",
            "1480/1480 [==============================] - 12s 8ms/step - loss: 5.5984 - accuracy: 0.0607\n",
            "Epoch 33/50\n",
            "1480/1480 [==============================] - 12s 8ms/step - loss: 5.5820 - accuracy: 0.0608\n",
            "Epoch 34/50\n",
            "1480/1480 [==============================] - 12s 8ms/step - loss: 5.5666 - accuracy: 0.0612\n",
            "Epoch 35/50\n",
            "1480/1480 [==============================] - 12s 8ms/step - loss: 5.5531 - accuracy: 0.0617\n",
            "Epoch 36/50\n",
            "1480/1480 [==============================] - 12s 8ms/step - loss: 5.5398 - accuracy: 0.0628\n",
            "Epoch 37/50\n",
            "1480/1480 [==============================] - 12s 8ms/step - loss: 5.5267 - accuracy: 0.0623\n",
            "Epoch 38/50\n",
            "1480/1480 [==============================] - 12s 8ms/step - loss: 5.5153 - accuracy: 0.0633\n",
            "Epoch 39/50\n",
            "1480/1480 [==============================] - 12s 8ms/step - loss: 5.5041 - accuracy: 0.0636\n",
            "Epoch 40/50\n",
            "1480/1480 [==============================] - 12s 8ms/step - loss: 5.4926 - accuracy: 0.0634\n",
            "Epoch 41/50\n",
            "1480/1480 [==============================] - 12s 8ms/step - loss: 5.4829 - accuracy: 0.0635\n",
            "Epoch 42/50\n",
            "1480/1480 [==============================] - 12s 8ms/step - loss: 5.4721 - accuracy: 0.0636\n",
            "Epoch 43/50\n",
            "1480/1480 [==============================] - 12s 8ms/step - loss: 5.4635 - accuracy: 0.0645\n",
            "Epoch 44/50\n",
            "1480/1480 [==============================] - 13s 9ms/step - loss: 5.4541 - accuracy: 0.0648\n",
            "Epoch 45/50\n",
            "1480/1480 [==============================] - 12s 8ms/step - loss: 5.4467 - accuracy: 0.0654\n",
            "Epoch 46/50\n",
            "1480/1480 [==============================] - 13s 9ms/step - loss: 5.4380 - accuracy: 0.0658\n",
            "Epoch 47/50\n",
            "1480/1480 [==============================] - 13s 9ms/step - loss: 5.4299 - accuracy: 0.0663\n",
            "Epoch 48/50\n",
            "1480/1480 [==============================] - 13s 9ms/step - loss: 5.4219 - accuracy: 0.0662\n",
            "Epoch 49/50\n",
            "1480/1480 [==============================] - 13s 9ms/step - loss: 5.4159 - accuracy: 0.0656\n",
            "Epoch 50/50\n",
            "1480/1480 [==============================] - 13s 9ms/step - loss: 5.4081 - accuracy: 0.0667\n"
          ]
        }
      ],
      "source": [
        "history_1D = model_1D.fit(input_sequences, one_hot_labels, epochs=50, verbose=1)"
      ]
    },
    {
      "cell_type": "code",
      "execution_count": 49,
      "id": "bdf426e0",
      "metadata": {
        "id": "bdf426e0",
        "outputId": "97d9fd47-1563-41e2-aab1-c759968c3373",
        "colab": {
          "base_uri": "https://localhost:8080/",
          "height": 282
        }
      },
      "outputs": [
        {
          "output_type": "display_data",
          "data": {
            "text/plain": [
              "<Figure size 432x288 with 1 Axes>"
            ],
            "image/png": "[encoded data removed]"
          },
          "metadata": {
            "needs_background": "light"
          }
        },
        {
          "output_type": "display_data",
          "data": {
            "text/plain": [
              "<Figure size 432x288 with 0 Axes>"
            ]
          },
          "metadata": {}
        }
      ],
      "source": [
        "# plot the accuracy for 1D ConvNet\n",
        "plt.plot(history_1D.history['accuracy'], label='train acc')\n",
        "plt.legend()\n",
        "plt.show()\n",
        "plt.savefig('AccVal_acc')"
      ]
    },
    {
      "cell_type": "code",
      "execution_count": 51,
      "id": "244d5c95",
      "metadata": {
        "id": "244d5c95",
        "outputId": "9c9e2352-173b-4045-f577-7d99e3da1d2d",
        "colab": {
          "base_uri": "https://localhost:8080/",
          "height": 0
        }
      },
      "outputs": [
        {
          "output_type": "stream",
          "name": "stdout",
          "text": [
            "look at her face of livin hes voices holler in a a same face away roll hide come nothing star neon get dance were fiddle ride sigh shining sight ahead sigh game belong ball south dream run own bugler while second little cmon along it no little home near able strong heart able knees world bit tiger told instead nights it twice again court whom tall theyre far my side a would today truth able nights dream lovelight ahead teacher seem stay do shining town floor crazy heart care away sound knees to neon warning choice dream sometimes soul smile light away wildest sea\n"
          ]
        }
      ],
      "source": [
        "# output generation\n",
        "model = model_1D\n",
        "seed_text = \"look at her face\"\n",
        "next_words = 100\n",
        "  \n",
        "for _ in range(next_words):\n",
        "  token_list = tokenizer.texts_to_sequences([seed_text])[0]\n",
        "  token_list = pad_sequences([token_list], maxlen=max_sequence_len-1, padding='pre')\n",
        "  predicted_probs = model.predict(token_list)[0]\n",
        "  predicted = np.random.choice([x for x in range(len(predicted_probs))],\n",
        "                               p=predicted_probs)\n",
        "  output_word = \"\"\n",
        "  for word, index in tokenizer.word_index.items():\n",
        "    if index == predicted:\n",
        "      output_word = word\n",
        "      break\n",
        "  seed_text += \" \" + output_word\n",
        "print(seed_text)"
      ]
    },
    {
      "cell_type": "markdown",
      "source": [
        ""
      ],
      "metadata": {
        "id": "oyPiVn8m4OGQ"
      },
      "id": "oyPiVn8m4OGQ"
    },
    {
      "cell_type": "markdown",
      "metadata": {
        "id": "B323Zt5S4ca-"
      },
      "source": [
        "# Used one-Dimensional ---model_1D for output generation it as more accuracy compared to other algorithm"
      ],
      "id": "B323Zt5S4ca-"
    }
  ],
  "metadata": {
    "kernelspec": {
      "display_name": "Python 3 (ipykernel)",
      "language": "python",
      "name": "python3"
    },
    "language_info": {
      "codemirror_mode": {
        "name": "ipython",
        "version": 3
      },
      "file_extension": ".py",
      "mimetype": "text/x-python",
      "name": "python",
      "nbconvert_exporter": "python",
      "pygments_lexer": "ipython3",
      "version": "3.9.12"
    },
    "colab": {
      "name": "Assignment-10.ipynb",
      "provenance": [],
      "collapsed_sections": []
    }
  },
  "nbformat": 4,
  "nbformat_minor": 5
}